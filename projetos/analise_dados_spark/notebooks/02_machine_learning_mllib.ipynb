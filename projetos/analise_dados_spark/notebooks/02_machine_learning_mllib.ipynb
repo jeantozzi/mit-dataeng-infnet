{
  "cells": [
    {
      "cell_type": "markdown",
      "metadata": {
        "id": "zsj22z6o4t1d"
      },
      "source": [
        "# Machine Learning com Spark MLlib"
      ]
    },
    {
      "cell_type": "markdown",
      "metadata": {
        "id": "mAabK48z40mj"
      },
      "source": [
        "Neste notebook, vamo criar um projeto de Machine Learning, especificamente regressão logística, utilizando o Spark MLlib.\n",
        "Para tanto, iremos:\n",
        "- Contextualização dos dados e do problema, bem como do algoritmo de regressão logística\n",
        "- Download, tratamento e limpeza dos dados de forma documentada\n",
        "- Realizar a transformações de features e labels\n",
        "- Divisão dos dados entre dois conjuntos: treino e teste\n",
        "- Treinar o modelo e apresentar as métricas de desempenho\n",
        "- Aplicar o modelo na base de teste, comparando o desempenho com a base de treino\n",
        "- Propor sugestões para próximos passos"
      ]
    },
    {
      "cell_type": "markdown",
      "metadata": {
        "id": "o7VeOcpk7LwR"
      },
      "source": [
        "## Stroke Prediction Dataset"
      ]
    },
    {
      "cell_type": "markdown",
      "metadata": {
        "id": "jYWaZhsB7GNa"
      },
      "source": [
        "### Caracterização Geral do Dataset\n",
        "\n",
        "O **Stroke Prediction Dataset** é uma coletânea de dados utilizada para a previsão de AVC (acidente vascular cerebral) em pacientes, disponibilizada na plataforma Kaggle. Este conjunto de dados é de extrema relevância no campo da saúde pública, pois permite a análise de fatores de risco associados a eventos de AVC, facilitando intervenções precoces e estratégias de prevenção. O dataset inclui informações demográficas e clínicas, possibilitando o uso de técnicas de aprendizado de máquina para identificar padrões e prever a probabilidade de um paciente sofrer um AVC.\n",
        "\n",
        "Com um total de **5110 registros**, o dataset contém **316.97 kB** de dados e abrange diversas características dos pacientes, incluindo idade, gênero, histórico médico e comportamental. Esses dados são essenciais para desenvolver modelos preditivos eficazes que podem ajudar profissionais da saúde a identificar indivíduos em risco, permitindo intervenções mais direcionadas e personalizadas."
      ]
    },
    {
      "cell_type": "markdown",
      "metadata": {
        "id": "WS0jGQjC7Qbz"
      },
      "source": [
        "### Caracterização do Schema de Dados\n",
        "\n",
        "1. **id**: unique identifier (identificador único)\n",
        "2. **gender**: \"Male\", \"Female\" or \"Other\" (masculino, feminino ou outro)\n",
        "3. **age**: age of the patient (idade do paciente)\n",
        "4. **hypertension**: 0 if the patient doesn't have hypertension, 1 if the patient has hypertension (0 se o paciente não tem hipertensão, 1 se o paciente tem hipertensão)\n",
        "5. **heart_disease**: 0 if the patient doesn't have any heart diseases, 1 if the patient has a heart disease (0 se o paciente não tem doenças cardíacas, 1 se o paciente tem uma doença cardíaca)\n",
        "6. **ever_married**: \"No\" or \"Yes\" (não ou sim)\n",
        "7. **work_type**: \"children\", \"Govt_job\", \"Never_worked\", \"Private\" or \"Self-employed\" (crianças, emprego público, nunca trabalhou, privado ou autônomo)\n",
        "8. **Residence_type**: \"Rural\" or \"Urban\" (rural ou urbano)\n",
        "9. **avg_glucose_level**: average glucose level in blood (nível médio de glicose no sangue)\n",
        "10. **bmi**: body mass index (índice de massa corporal)\n",
        "11. **smoking_status**: \"formerly smoked\", \"never smoked\", \"smokes\" or \"Unknown\" (anteriormente fumou, nunca fumou, fuma ou desconhecido)*\n",
        "12. **stroke**: 1 if the patient had a stroke or 0 if not (1 se o paciente teve um AVC ou 0 se não)\n",
        "\n",
        "*Nota: \"Unknown\" em smoking_status significa que a informação não está disponível para este paciente."
      ]
    },
    {
      "cell_type": "markdown",
      "metadata": {
        "id": "X2_ThNY37pt5"
      },
      "source": [
        "### Descrição Sumária do Problema de Machine Learning\n",
        "\n",
        "O problema de machine learning em questão envolve a previsão de AVC (acidente vascular cerebral) em pacientes, utilizando um modelo de **regressão logística**. O objetivo é classificar os pacientes em duas categorias: aqueles que têm uma alta probabilidade de sofrer um AVC e aqueles que não têm. Este tipo de análise é crucial na área da saúde, pois pode ajudar médicos e profissionais de saúde a identificar pacientes em risco e implementar medidas preventivas, reduzindo assim a incidência de AVC e melhorando os resultados de saúde."
      ]
    },
    {
      "cell_type": "markdown",
      "metadata": {
        "id": "lEQjphtd7rZR"
      },
      "source": [
        "### Features e Labels\n",
        "\n",
        "- **Features (Características)**:\n",
        "  1. **gender**: gênero do paciente (Masculino, Feminino, Outro)\n",
        "  2. **age**: idade do paciente\n",
        "  3. **hypertension**: histórico de hipertensão (0 ou 1)\n",
        "  4. **heart_disease**: histórico de doenças cardíacas (0 ou 1)\n",
        "  5. **ever_married**: estado civil (Sim ou Não)\n",
        "  6. **work_type**: tipo de trabalho (Crianças, Emprego Público, Nunca Trabalhou, Privado, Autônomo)\n",
        "  7. **Residence_type**: tipo de residência (Rural ou Urbano)\n",
        "  8. **avg_glucose_level**: nível médio de glicose no sangue\n",
        "  9. **bmi**: índice de massa corporal\n",
        "  10. **smoking_status**: status de fumo (Anteriormente fumou, Nunca fumou, Fuma, Desconhecido)\n",
        "\n",
        "- **Label (Rótulo)**:\n",
        "  - **stroke**: resultado da classificação, onde 1 indica que o paciente teve um AVC e 0 indica que não teve."
      ]
    },
    {
      "cell_type": "markdown",
      "metadata": {
        "id": "rAH_mcTL7oKT"
      },
      "source": [
        "### Operação do Algoritmo de Regressão Logística\n",
        "\n",
        "A **regressão logística** é um algoritmo de aprendizado supervisionado utilizado para problemas de classificação binária. Ele opera utilizando uma função logística (ou sigmoide) para modelar a probabilidade de um evento ocorrer, neste caso, a probabilidade de um paciente sofrer um AVC. O algoritmo estima os parâmetros da função logística com base nas features, aplicando uma transformação linear seguida da função sigmoide. O resultado é um valor entre 0 e 1, que pode ser interpretado como a probabilidade de um AVC.\n",
        "\n",
        "No contexto de negócios, o uso da regressão logística permite que as organizações de saúde identifiquem fatores de risco e prevejam a probabilidade de AVC em uma população específica. Isso facilita a criação de programas de prevenção e intervenção, otimizando o uso de recursos e melhorando os cuidados ao paciente."
      ]
    },
    {
      "cell_type": "markdown",
      "metadata": {
        "id": "C9XbV6HH90Lc"
      },
      "source": [
        "## Configuração e inicialização do ambiente PySpark"
      ]
    },
    {
      "cell_type": "code",
      "execution_count": 104,
      "metadata": {
        "id": "fnEJL71k-D93"
      },
      "outputs": [],
      "source": [
        "# Instalando o pacote do PySpark no ambiente\n",
        "!pip install -q pyspark"
      ]
    },
    {
      "cell_type": "code",
      "execution_count": 105,
      "metadata": {
        "id": "_y9lu0Jc-IOj"
      },
      "outputs": [],
      "source": [
        "from pyspark.sql import SparkSession\n",
        "from pyspark.sql.types import StructType, StructField, StringType, IntegerType, FloatType\n",
        "\n",
        "# Inicializando o Spark\n",
        "spark = SparkSession.builder \\\n",
        "    .appName(\"Logistic Regression - Stroke Dataset\") \\\n",
        "    .getOrCreate()"
      ]
    },
    {
      "cell_type": "markdown",
      "metadata": {
        "id": "5I97a4fM6e_m"
      },
      "source": [
        "## Download, tratamento e limpeza dos dados"
      ]
    },
    {
      "cell_type": "markdown",
      "metadata": {
        "id": "AQfRd3kz8XMR"
      },
      "source": [
        "Usaremos um link do GitHub para facilidade do acesso, direto ao dado.<br>\n",
        "Tanto no Kaggle quanto na API original, é necessário autenticar para realizar o download."
      ]
    },
    {
      "cell_type": "code",
      "execution_count": 106,
      "metadata": {
        "colab": {
          "base_uri": "https://localhost:8080/"
        },
        "id": "BTcO6Zzb8Vdx",
        "outputId": "fa8d1b39-6eeb-46cf-aa5d-ba8c1543a022"
      },
      "outputs": [
        {
          "name": "stdout",
          "output_type": "stream",
          "text": [
            "--2024-10-07 18:09:44--  https://gist.githubusercontent.com/aishwarya8615/d2107f828d3f904839cbcb7eaa85bd04/raw/cec0340503d82d270821e03254993b6dede60afb/healthcare-dataset-stroke-data.csv\n",
            "Resolving gist.githubusercontent.com (gist.githubusercontent.com)... 185.199.108.133, 185.199.109.133, 185.199.110.133, ...\n",
            "Connecting to gist.githubusercontent.com (gist.githubusercontent.com)|185.199.108.133|:443... connected.\n",
            "HTTP request sent, awaiting response... 200 OK\n",
            "Length: 316971 (310K) [text/plain]\n",
            "Saving to: ‘stroke_data.csv’\n",
            "\n",
            "\rstroke_data.csv       0%[                    ]       0  --.-KB/s               \rstroke_data.csv     100%[===================>] 309.54K  --.-KB/s    in 0.04s   \n",
            "\n",
            "2024-10-07 18:09:45 (6.75 MB/s) - ‘stroke_data.csv’ saved [316971/316971]\n",
            "\n"
          ]
        }
      ],
      "source": [
        "# Download dos dados\n",
        "!wget -O stroke_data.csv https://gist.githubusercontent.com/aishwarya8615/d2107f828d3f904839cbcb7eaa85bd04/raw/cec0340503d82d270821e03254993b6dede60afb/healthcare-dataset-stroke-data.csv"
      ]
    },
    {
      "cell_type": "code",
      "execution_count": 107,
      "metadata": {
        "id": "dADR_U8W-Zdi"
      },
      "outputs": [],
      "source": [
        "from pyspark.sql.types import StructType, StructField, StringType, IntegerType, FloatType\n",
        "\n",
        "# Criando o schema\n",
        "schema = StructType([\n",
        "    StructField(\"id\", StringType(), True),\n",
        "    StructField(\"gender\", StringType(), True),\n",
        "    StructField(\"age\", IntegerType(), True),\n",
        "    StructField(\"hypertension\", IntegerType(), True),\n",
        "    StructField(\"heart_disease\", IntegerType(), True),\n",
        "    StructField(\"ever_married\", StringType(), True),\n",
        "    StructField(\"work_type\", StringType(), True),\n",
        "    StructField(\"Residence_type\", StringType(), True),\n",
        "    StructField(\"avg_glucose_level\", FloatType(), True),\n",
        "    StructField(\"bmi\", FloatType(), True),\n",
        "    StructField(\"smoking_status\", StringType(), True),\n",
        "    StructField(\"stroke\", IntegerType(), True)\n",
        "])"
      ]
    },
    {
      "cell_type": "code",
      "execution_count": 108,
      "metadata": {
        "colab": {
          "base_uri": "https://localhost:8080/"
        },
        "id": "CmQpcjjjt41X",
        "outputId": "443b7c18-b525-4752-ec5d-7e3542122f25"
      },
      "outputs": [
        {
          "name": "stdout",
          "output_type": "stream",
          "text": [
            "+-----+------+---+------------+-------------+------------+-------------+--------------+-----------------+----+---------------+------+\n",
            "|   id|gender|age|hypertension|heart_disease|ever_married|    work_type|Residence_type|avg_glucose_level| bmi| smoking_status|stroke|\n",
            "+-----+------+---+------------+-------------+------------+-------------+--------------+-----------------+----+---------------+------+\n",
            "| 9046|  Male| 67|           0|            1|         Yes|      Private|         Urban|           228.69|36.6|formerly smoked|     1|\n",
            "|51676|Female| 61|           0|            0|         Yes|Self-employed|         Rural|           202.21|NULL|   never smoked|     1|\n",
            "|31112|  Male| 80|           0|            1|         Yes|      Private|         Rural|           105.92|32.5|   never smoked|     1|\n",
            "|60182|Female| 49|           0|            0|         Yes|      Private|         Urban|           171.23|34.4|         smokes|     1|\n",
            "| 1665|Female| 79|           1|            0|         Yes|Self-employed|         Rural|           174.12|24.0|   never smoked|     1|\n",
            "+-----+------+---+------------+-------------+------------+-------------+--------------+-----------------+----+---------------+------+\n",
            "only showing top 5 rows\n",
            "\n"
          ]
        }
      ],
      "source": [
        "# Carregando o dataset\n",
        "data = spark.read.csv(\"stroke_data.csv\", header=True, schema=schema)\n",
        "data.show(5)"
      ]
    },
    {
      "cell_type": "code",
      "execution_count": 109,
      "metadata": {
        "colab": {
          "base_uri": "https://localhost:8080/"
        },
        "id": "iVvZWcrM-nkQ",
        "outputId": "fea12fe2-094a-41e8-e4a8-0b231d4503ae"
      },
      "outputs": [
        {
          "name": "stdout",
          "output_type": "stream",
          "text": [
            "Valores nulos por coluna:\n",
            "+---+------+---+------------+-------------+------------+---------+--------------+-----------------+---+--------------+------+\n",
            "| id|gender|age|hypertension|heart_disease|ever_married|work_type|Residence_type|avg_glucose_level|bmi|smoking_status|stroke|\n",
            "+---+------+---+------------+-------------+------------+---------+--------------+-----------------+---+--------------+------+\n",
            "|  0|     0|115|           0|            0|           0|        0|             0|                0|201|             0|     0|\n",
            "+---+------+---+------------+-------------+------------+---------+--------------+-----------------+---+--------------+------+\n",
            "\n",
            "Número de registros antes da limpeza: 5110\n",
            "Número de registros depois da limpeza: 4800\n"
          ]
        }
      ],
      "source": [
        "from pyspark.sql.functions import when, count, col\n",
        "\n",
        "# Verificando a presença de valores nulos\n",
        "print(\"Valores nulos por coluna:\")\n",
        "data.select([count(when(col(c).isNull(), c)).alias(c) for c in data.columns]).show()\n",
        "\n",
        "# Tratando valores nulos (removendo linhas com valores nulos)\n",
        "print(\"Número de registros antes da limpeza:\", data.count())\n",
        "data = data.na.drop()\n",
        "print(\"Número de registros depois da limpeza:\", data.count())\n"
      ]
    },
    {
      "cell_type": "markdown",
      "metadata": {
        "id": "G9oEo9va-2jL"
      },
      "source": [
        "## Features e labels"
      ]
    },
    {
      "cell_type": "code",
      "execution_count": 110,
      "metadata": {
        "colab": {
          "base_uri": "https://localhost:8080/"
        },
        "id": "vKLaKA7Z--X6",
        "outputId": "34e3612a-0f07-4119-cab5-1c61eec223b7"
      },
      "outputs": [
        {
          "name": "stdout",
          "output_type": "stream",
          "text": [
            "+--------------------+-----+\n",
            "|            features|label|\n",
            "+--------------------+-----+\n",
            "|[67.0,0.0,1.0,228...|    1|\n",
            "|[80.0,0.0,1.0,105...|    1|\n",
            "|(10,[0,3,4,9],[49...|    1|\n",
            "|[79.0,1.0,0.0,174...|    1|\n",
            "|(10,[0,3,4,5,9],[...|    1|\n",
            "+--------------------+-----+\n",
            "only showing top 5 rows\n",
            "\n"
          ]
        }
      ],
      "source": [
        "from pyspark.ml.feature import StringIndexer, VectorAssembler\n",
        "\n",
        "# Definindo colunas categóricas\n",
        "categorical_columns = ['gender', 'ever_married', 'work_type', 'Residence_type', 'smoking_status']\n",
        "\n",
        "# Aplicando StringIndexer em cada coluna categórica\n",
        "for column in categorical_columns:\n",
        "    indexer = StringIndexer(inputCol=column, outputCol=column + \"_index\")\n",
        "    data = indexer.fit(data).transform(data)\n",
        "\n",
        "# Renomeando a coluna \"stroke\" para \"label\"\n",
        "data = data.withColumnRenamed(\"stroke\", \"label\")\n",
        "\n",
        "# Combinando as colunas de características em um vetor de features\n",
        "feature_columns = ['age', 'hypertension', 'heart_disease', 'avg_glucose_level', 'bmi'] + [column + \"_index\" for column in categorical_columns]\n",
        "assembler = VectorAssembler(inputCols=feature_columns, outputCol=\"features\")\n",
        "data = assembler.transform(data)\n",
        "\n",
        "# Exibindo os dados transformados\n",
        "data.select(\"features\", \"label\").show(5)"
      ]
    },
    {
      "cell_type": "markdown",
      "metadata": {
        "id": "F9kKFgv5_jTg"
      },
      "source": [
        "## Divisão treino e teste"
      ]
    },
    {
      "cell_type": "markdown",
      "metadata": {
        "id": "mmWWTXlCA2-3"
      },
      "source": [
        "Seguiremos com a divisão 70/30 para de treino e teste, respectivamente."
      ]
    },
    {
      "cell_type": "code",
      "execution_count": 111,
      "metadata": {
        "colab": {
          "base_uri": "https://localhost:8080/"
        },
        "id": "JyiyEfgx_lsb",
        "outputId": "a88d074b-b931-49db-dbc1-af7b4d797094"
      },
      "outputs": [
        {
          "name": "stdout",
          "output_type": "stream",
          "text": [
            "Distribuição de registros\n",
            "Treinamento: 3360, Teste: 1440\n"
          ]
        }
      ],
      "source": [
        "# Dividindo os dados\n",
        "train_data, test_data = data.randomSplit([0.7, 0.3])\n",
        "\n",
        "# Exibindo a quantidade de registros em cada conjunto\n",
        "print(\"Distribuição de registros\")\n",
        "print(f\"Treinamento: {train_data.count()}, Teste: {test_data.count()}\")"
      ]
    },
    {
      "cell_type": "markdown",
      "metadata": {
        "id": "iAC3QRa2B5nd"
      },
      "source": [
        "## Treinamento do modelo"
      ]
    },
    {
      "cell_type": "code",
      "execution_count": 112,
      "metadata": {
        "id": "8s4RsNr1B6_1"
      },
      "outputs": [],
      "source": [
        "from pyspark.ml.classification import LogisticRegression\n",
        "\n",
        "# Definindo o modelo de Regressão Logística\n",
        "lr = LogisticRegression(featuresCol='features', labelCol='label', maxIter=10)\n",
        "\n",
        "# Treinando o modelo\n",
        "lr_model = lr.fit(train_data)"
      ]
    },
    {
      "cell_type": "markdown",
      "metadata": {
        "id": "PDZ1GjmaCPy5"
      },
      "source": [
        "## Avaliação do modelo (treino e teste)"
      ]
    },
    {
      "cell_type": "markdown",
      "metadata": {
        "id": "q3q3acBJDCBD"
      },
      "source": [
        "Descrição sumária das métricas utilizadas para avaliação do modelo:\n",
        "- Acurácia:\n",
        "  - Proporção de previsões corretas em relação ao total de previsões. É uma métrica simples, mas pode ser enganosa em casos de classes desbalanceadas.\n",
        "\n",
        "- Precisão (Precision):\n",
        "  - Proporção de verdadeiros positivos em relação ao total de positivos previstos (verdadeiros positivos + falsos positivos). Mede a qualidade das previsões positivas do modelo.\n",
        "\n",
        "- Revocação (Recall ou Sensibilidade):\n",
        "  - Proporção de verdadeiros positivos em relação ao total de positivos reais (verdadeiros positivos + falsos negativos). Mede a capacidade do modelo de capturar todas as instâncias positivas.\n",
        "\n",
        "- F1-Score:\n",
        "  - A média harmônica entre precisão e revocação. É uma métrica útil quando você deseja encontrar um equilíbrio entre precisão e revocação, especialmente em conjuntos de dados desbalanceados."
      ]
    },
    {
      "cell_type": "code",
      "execution_count": 113,
      "metadata": {
        "colab": {
          "base_uri": "https://localhost:8080/"
        },
        "id": "xLksLFMmC7b1",
        "outputId": "2bf8b96f-a3bd-4e72-e088-3b802266289d"
      },
      "outputs": [
        {
          "name": "stdout",
          "output_type": "stream",
          "text": [
            "Métricas para o Conjunto de Treino:\n",
            "Acurácia: 0.9539\n",
            "Precisão: 0.9099\n",
            "Revocação: 0.9539\n",
            "F1-Score: 0.9313\n",
            "\n",
            "Métricas para o Conjunto de Teste:\n",
            "Acurácia: 0.9632\n",
            "Precisão: 0.9646\n",
            "Revocação: 0.9632\n",
            "F1-Score: 0.9458\n"
          ]
        }
      ],
      "source": [
        "from pyspark.ml.evaluation import MulticlassClassificationEvaluator\n",
        "\n",
        "# Inicializando o avaliador\n",
        "evaluator = MulticlassClassificationEvaluator(labelCol=\"label\", predictionCol=\"prediction\")\n",
        "\n",
        "# Avaliando o modelo no conjunto de treino\n",
        "train_predictions = lr_model.transform(train_data)\n",
        "\n",
        "# Calculando as métricas para o conjunto de treino\n",
        "train_accuracy = evaluator.evaluate(train_predictions, {evaluator.metricName: \"accuracy\"})\n",
        "train_precision = evaluator.evaluate(train_predictions, {evaluator.metricName: \"weightedPrecision\"})\n",
        "train_recall = evaluator.evaluate(train_predictions, {evaluator.metricName: \"weightedRecall\"})\n",
        "train_f1_score = evaluator.evaluate(train_predictions, {evaluator.metricName: \"f1\"})\n",
        "\n",
        "# Exibindo os resultados para o conjunto de treino\n",
        "print(\"Métricas para o Conjunto de Treino:\")\n",
        "print(f\"Acurácia: {train_accuracy:.4f}\")\n",
        "print(f\"Precisão: {train_precision:.4f}\")\n",
        "print(f\"Revocação: {train_recall:.4f}\")\n",
        "print(f\"F1-Score: {train_f1_score:.4f}\")\n",
        "\n",
        "# Avaliando o modelo no conjunto de teste\n",
        "test_predictions = lr_model.transform(test_data)\n",
        "\n",
        "# Calculando as métricas para o conjunto de teste\n",
        "test_accuracy = evaluator.evaluate(test_predictions, {evaluator.metricName: \"accuracy\"})\n",
        "test_precision = evaluator.evaluate(test_predictions, {evaluator.metricName: \"weightedPrecision\"})\n",
        "test_recall = evaluator.evaluate(test_predictions, {evaluator.metricName: \"weightedRecall\"})\n",
        "test_f1_score = evaluator.evaluate(test_predictions, {evaluator.metricName: \"f1\"})\n",
        "\n",
        "# Exibindo os resultados para o conjunto de teste\n",
        "print(\"\\nMétricas para o Conjunto de Teste:\")\n",
        "print(f\"Acurácia: {test_accuracy:.4f}\")\n",
        "print(f\"Precisão: {test_precision:.4f}\")\n",
        "print(f\"Revocação: {test_recall:.4f}\")\n",
        "print(f\"F1-Score: {test_f1_score:.4f}\")"
      ]
    },
    {
      "cell_type": "markdown",
      "metadata": {
        "id": "WhCaUczvE5Ck"
      },
      "source": [
        "As métricas obtidas para o conjunto de treino indicam um desempenho ligeiramente superior em comparação ao conjunto de teste, com uma acurácia de 95,73%, precisão de 95,91%, revocação de 95,73% e um F1-score de 93,66%. Em contraste, as métricas para o conjunto de teste mostram uma acurácia de 95,53%, precisão de 91,26%, revocação de 95,53% e um F1-score de 93,34%.<br><br>\n",
        "Essa diferença na precisão é particularmente relevante, pois sugere que o modelo pode estar apresentando uma leve sobreajuste no conjunto de treino, onde a capacidade de identificar corretamente as instâncias positivas é um pouco mais alta. Apesar disso, a acurácia e revocação permanecem próximas entre os conjuntos, indicando que o modelo é capaz de generalizar bem suas previsões para dados não vistos.<br><br>\n",
        "Para utilização em produção, essas métricas são promissoras, mas é crucial monitorar o modelo ao longo do tempo para garantir que ele mantenha seu desempenho, especialmente em ambientes dinâmicos onde as características dos dados podem mudar. Estratégias de reavaliação e re-treinamento devem ser implementadas para assegurar a eficácia contínua do modelo em identificar pacientes em risco de AVC."
      ]
    },
    {
      "cell_type": "code",
      "execution_count": 114,
      "metadata": {
        "colab": {
          "base_uri": "https://localhost:8080/",
          "height": 507
        },
        "id": "3-eulLjiDkoW",
        "outputId": "a72877c3-20d6-4ba1-d0e6-2510166c4880"
      },
      "outputs": [
        {
          "data": {
            "image/png": "[encoded data removed]",
            "text/plain": [
              "<Figure size 1200x500 with 4 Axes>"
            ]
          },
          "metadata": {},
          "output_type": "display_data"
        }
      ],
      "source": [
        "# Gerando a matriz de confusão para o conjunto de treino\n",
        "train_confusion_matrix = train_predictions.groupBy(\"label\", \"prediction\").count().orderBy(\"label\", \"prediction\")\n",
        "train_confusion_matrix_pd = train_confusion_matrix.toPandas()\n",
        "\n",
        "# Gerando a matriz de confusão para o conjunto de teste\n",
        "test_confusion_matrix = test_predictions.groupBy(\"label\", \"prediction\").count().orderBy(\"label\", \"prediction\")\n",
        "test_confusion_matrix_pd = test_confusion_matrix.toPandas()\n",
        "\n",
        "# Criando a matriz de confusão para treino\n",
        "train_matrix = train_confusion_matrix_pd.pivot(index='label', columns='prediction', values='count').fillna(0)\n",
        "train_matrix = train_matrix.astype(int)\n",
        "\n",
        "# Criando a matriz de confusão para teste\n",
        "test_matrix = test_confusion_matrix_pd.pivot(index='label', columns='prediction', values='count').fillna(0)\n",
        "test_matrix = test_matrix.astype(int)\n",
        "\n",
        "import seaborn as sns\n",
        "import matplotlib.pyplot as plt\n",
        "\n",
        "# Visualizando as matrizes de confusão\n",
        "plt.figure(figsize=(12, 5))\n",
        "\n",
        "# Matriz de Confusão para o Conjunto de Treino\n",
        "plt.subplot(1, 2, 1)\n",
        "sns.heatmap(train_matrix, annot=True, fmt='g', cmap='Blues')\n",
        "plt.title('Matriz de Confusão - Conjunto de Treino')\n",
        "plt.xlabel('Previsão')\n",
        "plt.ylabel('Rótulo Real')\n",
        "\n",
        "# Matriz de Confusão para o Conjunto de Teste\n",
        "plt.subplot(1, 2, 2)\n",
        "sns.heatmap(test_matrix, annot=True, fmt='g', cmap='Blues')\n",
        "plt.title('Matriz de Confusão - Conjunto de Teste')\n",
        "plt.xlabel('Previsão')\n",
        "plt.ylabel('Rótulo Real')\n",
        "\n",
        "# Plotando os gráficos\n",
        "plt.tight_layout()\n",
        "plt.show()"
      ]
    },
    {
      "cell_type": "markdown",
      "metadata": {
        "id": "NRKgn-pzH64S"
      },
      "source": [
        "### Interpretação das matrizes de confusão\n",
        "\n",
        "Matriz de confusão - conjunto de treino:\n",
        "- Verdadeiros Positivos (VP):\n",
        "  - 1 (o modelo acertou 1 instância da classe positiva)\n",
        "- Falsos Negativos (FN):\n",
        "  - 144 (o modelo classificou 144 instâncias da classe positiva como negativa)\n",
        "- Verdadeiros Negativos (VN):\n",
        "  - 3224 (o modelo acertou 3224 instâncias da classe negativa)\n",
        "- Falsos Positivos (FP):\n",
        "  - 0 (não houve erros de classificação, onde o modelo classificou instâncias negativas como positivas)\n",
        "\n",
        "Matriz de confusão - conjunto de teste:\n",
        "- Verdadeiros Positivos (VP):\n",
        "  - 0 (o modelo não conseguiu identificar nenhuma instância da classe positiva)\n",
        "- Falsos Negativos (FN):\n",
        "  - 64 (o modelo classificou 64 instâncias da classe positiva como negativa)\n",
        "- Verdadeiros Negativos (VN):\n",
        "  - 1367 (o modelo acertou 1367 instâncias da classe negativa)\n",
        "- Falsos Positivos (FP):\n",
        "  - 0 (não houve erros de classificação, onde o modelo classificou instâncias negativas como positivas)"
      ]
    },
    {
      "cell_type": "markdown",
      "metadata": {
        "id": "BT_pEBRkJB9I"
      },
      "source": [
        "### Análise dos resultados\n",
        "- Conjunto de treino:\n",
        "  - O modelo mostra uma performance muito boa na detecção da classe negativa, com um alto número de verdadeiros negativos (3224). Contudo, tem dificuldades em identificar a classe positiva, como evidenciado pelo baixo número de verdadeiros positivos (1) e pelo alto número de falsos negativos (144). Isso sugere que o modelo pode estar com um viés significativo em favor da classe negativa.\n",
        "- Conjunto de teste:\n",
        "  - A situação se agrava no conjunto de teste, onde o modelo não conseguiu identificar nenhum verdadeiro positivo e teve um número considerável de falsos negativos (64). O modelo parece não generalizar bem para novos dados, o que é uma indicação clara de sobreajuste (overfitting) ao conjunto de treino."
      ]
    },
    {
      "cell_type": "markdown",
      "metadata": {
        "id": "SWqUdWyTJZr4"
      },
      "source": [
        "### Possíveis causas\n",
        "- Desbalanceamento de classes:\n",
        "  - Se o conjunto de dados for desbalanceado (muito mais instâncias de uma classe do que de outra), o modelo pode se tornar tendencioso em favor da classe maior, resultando em baixa detecção da classe menor.\n",
        "- Complexidade do modelo:\n",
        "  - O modelo pode ser excessivamente complexo para a quantidade de dados disponíveis, levando ao sobreajuste.\n",
        "- Falta de dados relevantes:\n",
        "  - Pode haver falta de características que ajudem na distinção entre as classes. Isso pode ocorrer devido a dados não representativos ou irrelevantes."
      ]
    },
    {
      "cell_type": "markdown",
      "metadata": {
        "id": "8ERr7lb2JjPZ"
      },
      "source": [
        "### Estratégias para melhorar os resultados\n",
        "- Reamostragem dos dados:\n",
        "  - Técnicas como under-sampling da classe majoritária ou over-sampling da classe minoritária (por exemplo, SMOTE - Synthetic Minority Over-sampling Technique) podem ajudar a equilibrar as classes e melhorar a capacidade do modelo de identificar a classe minoritária.\n",
        "\n",
        "- Ajuste de hiperparâmetros:\n",
        "  - Utilizar técnicas como validação cruzada para encontrar os melhores hiperparâmetros do modelo pode ajudar a melhorar a performance.\n",
        "\n",
        "- Feature engineering:\n",
        "  - Analisar e adicionar novas características que possam ajudar na distinção entre as classes. Também pode ser útil remover características irrelevantes.\n",
        "\n",
        "- Modelos diferentes:\n",
        "  - Experimentar com diferentes algoritmos de machine learning que possam ser mais adequados para dados desbalanceados, como Random Forest, Gradient Boosting ou mesmo técnicas de ensemble.\n",
        "\n",
        "- Ajustar o limite de decisão:\n",
        "  - Modificar o limite de decisão do classificador pode ajudar a aumentar a sensibilidade para a classe positiva, melhorando a revocação, embora isso possa impactar a precisão.\n",
        "\n",
        "- Aumento de dados:\n",
        "  - Se possível, coletar mais dados, especialmente da classe positiva, pode ajudar a melhorar a robustez do modelo."
      ]
    }
  ],
  "metadata": {
    "colab": {
      "provenance": []
    },
    "kernelspec": {
      "display_name": "Python 3",
      "name": "python3"
    },
    "language_info": {
      "name": "python"
    }
  },
  "nbformat": 4,
  "nbformat_minor": 0
}
