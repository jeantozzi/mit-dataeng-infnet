{
 "cells": [
  {
   "cell_type": "markdown",
   "metadata": {},
   "source": [
    "# Análise de dados com PySpark"
   ]
  },
  {
   "cell_type": "markdown",
   "metadata": {},
   "source": [
    "Neste notebook, vamos recriar com PySpark as análises feitas anteriormente com SQL no Hive.<br>\n",
    "Para tanto, iremos:\n",
    "1. Baixar e extrair os arquivos utilizados.\n",
    "2. Configurar e iniciar o ambiente do PySpark.\n",
    "3. Realizar as análises em PySpark, com as queries SQL servindo de referência comparativa."
   ]
  },
  {
   "cell_type": "markdown",
   "metadata": {},
   "source": [
    "## Baixando e extraindo os dados utilizados anteriormente no projeto de Infraestrutura Hadoop"
   ]
  },
  {
   "cell_type": "code",
   "execution_count": 7,
   "metadata": {},
   "outputs": [
    {
     "name": "stdout",
     "output_type": "stream",
     "text": [
      "Iniciando o processo de download e extração em dom 06 out 2024 22:24:14 -03\n",
      "Baixando o arquivo name.basics.tsv.gz...\n",
      "--2024-10-06 22:24:14--  https://datasets.imdbws.com/name.basics.tsv.gz\n",
      "Resolvendo datasets.imdbws.com (datasets.imdbws.com)... 2600:9000:239b:a200:3:3082:af00:93a1, 2600:9000:239b:e400:3:3082:af00:93a1, 2600:9000:239b:4e00:3:3082:af00:93a1, ...\n",
      "Conectando-se a datasets.imdbws.com (datasets.imdbws.com)|2600:9000:239b:a200:3:3082:af00:93a1|:443... conectado.\n",
      "A requisição HTTP foi enviada, aguardando resposta... 200 OK\n",
      "Tamanho: 273487929 (261M) [binary/octet-stream]\n",
      "Salvando em: ‘../datasets/name.basics.tsv.gz’\n",
      "\n",
      "name.basics.tsv.gz    0%[                    ]   1,30M   334KB/s    TED 14m 28s^C\n"
     ]
    }
   ],
   "source": [
    "!bash ../scripts/download_and_extract.sh"
   ]
  },
  {
   "cell_type": "code",
   "execution_count": null,
   "metadata": {},
   "outputs": [],
   "source": []
  }
 ],
 "metadata": {
  "kernelspec": {
   "display_name": "Python 3",
   "language": "python",
   "name": "python3"
  },
  "language_info": {
   "codemirror_mode": {
    "name": "ipython",
    "version": 3
   },
   "file_extension": ".py",
   "mimetype": "text/x-python",
   "name": "python",
   "nbconvert_exporter": "python",
   "pygments_lexer": "ipython3",
   "version": "3.10.12"
  }
 },
 "nbformat": 4,
 "nbformat_minor": 2
}
